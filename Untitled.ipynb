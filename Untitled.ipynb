{
 "cells": [
  {
   "cell_type": "code",
   "execution_count": 6,
   "id": "24b69a81",
   "metadata": {},
   "outputs": [],
   "source": [
    "# import streamlit as st\n",
    "\n",
    "# import numpy as np\n",
    "# import pandas as pd\n",
    "# import os\n",
    "\n",
    "\n",
    "\n",
    "# st.markdown(\"\"\"# That's how monet would have done it!\n",
    "# ## transform any pic into a Monet painting\n",
    "# \"\"\")\n",
    "\n",
    "\n",
    "\n",
    "# # uploaded_file = st.file_uploader(\"Choose a jpg file\", type=\"jpg\")\n",
    "\n",
    "# # image_path = uploaded_file\n",
    "# # #st.echo(image_path)\n",
    "# # st.write(image_path)\n",
    "\n",
    "# # from PIL import Image\n",
    "# # if image_path:\n",
    "# #     image = Image.open(image_path)\n",
    "# #     st.image(image, caption='Image before transformation')\n",
    "\n",
    "# # image = Image.open(image_path)\n",
    "# # st.image(image, caption='Image after transformation')\n",
    "\n",
    "# #SELECT A FILE \n",
    "# def file_selector(folder_path='.'):\n",
    "#     filenames = os.listdir(folder_path)\n",
    "#     selected_filename = st.selectbox('Select a file', filenames)\n",
    "#     # st.write(os.path.join(folder_path, selected_filename))\n",
    "#     return os.path.join(folder_path, selected_filename)\n",
    "\n",
    "\n",
    "# #########UPLOAD TO GCP#####################################        \n",
    "# # import io \n",
    "# # from io import BytesIO\n",
    "# # from google.cloud import storage\n",
    "\n",
    "\n",
    "# # client = storage.Client.from_service_account_json(\"batch-672-gan-monet-59f43b305ef6.json\")\n",
    "# # BUCKET_NAME = 'bucket-monet-gan'\n",
    "# # bucket = client.get_bucket(BUCKET_NAME)  \n",
    "# # blob = bucket.blob(filename)    \n",
    "\n",
    "# # with open(filename, 'rb') as f: #open file as binary - create an object of file\n",
    "# #     blob.upload_from_file(f)   \n",
    "          \n",
    "\n",
    "# # def upload_to_bucket(blob_name, path_to_file, bucket_name):\n",
    "# # \"\"\" Upload data to a google cloud bucket and get public URL\"\"\"\n",
    "# # # Explicitly use service account credentials by specifying the private key\n",
    "# # # file.\n",
    "# # storage_client = storage.Client.from_service_account_json(\n",
    "# #     'XXXXXX_gcloud.json'\n",
    "# # )\n",
    "# # # print(buckets = list(storage_client.list_buckets())\n",
    "# # bucket = storage_client.get_bucket(bucket_name)\n",
    "# # blob = bucket.blob(blob_name)\n",
    "# # blob.upload_from_filename(path_to_file)\n",
    "# # # returns a public url\n",
    "# # blob.make_public()\n",
    "# # return blob.public_url\n",
    "\n",
    "\n",
    "# from google.cloud import storage\n",
    "# from google.cloud.storage import bucket\n",
    "\n",
    "# os.environ['GOOGLE_APPLICATION_CREDENTIALS'] = 'batch-672-gan-monet-59f43b305ef6.json'\n",
    "\n",
    "# storage_client = storage.Client()\n",
    "\n",
    "# bucket_name = 'bucket-monet-gan'\n",
    "# bucket = storage_client.bucket(bucket_name)\n",
    "\n",
    "# vars(bucket)\n",
    "\n",
    "# '''Accessing the bucket'''\n",
    "# my_bucket = storage_client.get_bucket(bucket_name)\n",
    "\n",
    "# '''Uploading files'''\n",
    "# def upload_to_bucket(blob_name, file_path, bucket_name):\n",
    "#     try:\n",
    "#         bucket = storage_client.get_bucket(bucket_name)\n",
    "#         blob = bucket.blob(blob_name)\n",
    "#         blob.upload_from_filename(file_path)\n",
    "#         return True\n",
    "\n",
    "#     except:\n",
    "#         return False\n",
    "\n",
    "\n",
    "# file_path = r'../raw_data/test/'\n",
    "# #upload_to_bucket('test_monet', os.path.join(file_path, 'test_monet.jpg'), 'bucket-monet-gan')\n",
    "\n",
    "# '''Downloading files'''\n",
    "\n",
    "\n",
    "# def store_inside_bucket_folder():\n",
    "#     #print(dir(storage_client)) #print bucket details\n",
    "#     #print(vars(my_bucket)) # print bucket details\n",
    "#     upload_to_bucket('frontend_upload_images/test_frontend', os.path.join(file_path,\n",
    "#                      'impression_Sunrise.jpg'), 'bucket-monet-gan')\n",
    "\n",
    "# if __name__ == '__main__':\n",
    "#     if st.checkbox('Select an image'):\n",
    "#         folder_path = '.'\n",
    "#     if st.checkbox('Change directory'):\n",
    "#         folder_path = st.text_input('Enter folder path', '.')\n",
    "#         filename = file_selector(folder_path=folder_path)\n",
    "#         st.write(type(filename))\n",
    "#         st.write('You selected `%s`' % filename)                                                         \n",
    "                \n",
    "#     store_inside_bucket_folder()\n",
    "       \n",
    "\n",
    "\n"
   ]
  },
  {
   "cell_type": "code",
   "execution_count": 9,
   "id": "a042608c",
   "metadata": {},
   "outputs": [
    {
     "data": {
      "text/plain": [
       "False"
      ]
     },
     "execution_count": 9,
     "metadata": {},
     "output_type": "execute_result"
    }
   ],
   "source": [
    "import numpy as np\n",
    "import pandas as pd\n",
    "import os\n",
    "from google.cloud import storage\n",
    "from google.cloud.storage import bucket\n",
    "\n",
    "os.environ['GOOGLE_APPLICATION_CREDENTIALS'] = 'batch-672-gan-monet-59f43b305ef6.json'\n",
    "\n",
    "storage_client = storage.Client()\n",
    "\n",
    "bucket_name = 'bucket-monet-gan'\n",
    "bucket = storage_client.bucket(bucket_name)\n",
    "\n",
    "vars(bucket)\n",
    "\n",
    "'''Accessing the bucket'''\n",
    "my_bucket = storage_client.get_bucket(bucket_name)\n",
    "\n",
    "'''Uploading files'''\n",
    "def upload_to_bucket(blob_name, file_path, bucket_name):\n",
    "    try:\n",
    "        bucket = storage_client.get_bucket(bucket_name)\n",
    "        blob = bucket.blob(blob_name)\n",
    "        blob.upload_from_filename(file_path)\n",
    "        return True\n",
    "\n",
    "    except:\n",
    "        return False\n",
    "\n",
    "\n",
    "file_path = r'../raw_data/test/'\n",
    "upload_to_bucket('frontend_upload_images/test_frontend', os.path.join(file_path,'impression_Sunrise.jpg'), 'bucket-monet-gan')\n",
    "\n",
    "\n",
    "\n",
    "\n",
    "# def hauptsache():\n",
    "#     #print(dir(storage_client)) #print bucket details\n",
    "#     #print(vars(my_bucket)) # print bucket details\n",
    "#     upload_to_bucket('frontend_upload_images/test_frontend', os.path.join(file_path,\n",
    "#                   'impression_Sunrise.jpg'), 'bucket-monet-gan')\n",
    "\n",
    "\n",
    "# if __name__ == '__main__':\n",
    "#     hauptsache()\n",
    "    "
   ]
  },
  {
   "cell_type": "code",
   "execution_count": 14,
   "id": "d3612ed0",
   "metadata": {},
   "outputs": [
    {
     "data": {
      "text/plain": [
       "'/home/nitish/code/florentiino/monet_boys/monet_boys'"
      ]
     },
     "execution_count": 14,
     "metadata": {},
     "output_type": "execute_result"
    }
   ],
   "source": [
    "os.path.abspath('monet_boys')"
   ]
  },
  {
   "cell_type": "code",
   "execution_count": 15,
   "id": "1d708a7d",
   "metadata": {},
   "outputs": [
    {
     "data": {
      "text/plain": [
       "'/home/nitish/code/florentiino/monet_boys'"
      ]
     },
     "execution_count": 15,
     "metadata": {},
     "output_type": "execute_result"
    }
   ],
   "source": [
    "os.getcwd()"
   ]
  },
  {
   "cell_type": "code",
   "execution_count": null,
   "id": "b9676262",
   "metadata": {},
   "outputs": [],
   "source": []
  }
 ],
 "metadata": {
  "kernelspec": {
   "display_name": "Python 3 (ipykernel)",
   "language": "python",
   "name": "python3"
  },
  "language_info": {
   "codemirror_mode": {
    "name": "ipython",
    "version": 3
   },
   "file_extension": ".py",
   "mimetype": "text/x-python",
   "name": "python",
   "nbconvert_exporter": "python",
   "pygments_lexer": "ipython3",
   "version": "3.8.6"
  },
  "toc": {
   "base_numbering": 1,
   "nav_menu": {},
   "number_sections": true,
   "sideBar": true,
   "skip_h1_title": false,
   "title_cell": "Table of Contents",
   "title_sidebar": "Contents",
   "toc_cell": false,
   "toc_position": {},
   "toc_section_display": true,
   "toc_window_display": false
  }
 },
 "nbformat": 4,
 "nbformat_minor": 5
}
